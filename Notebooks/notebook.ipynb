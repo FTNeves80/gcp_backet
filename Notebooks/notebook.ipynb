{
 "cells": [
  {
   "cell_type": "code",
   "execution_count": null,
   "id": "f3154dee",
   "metadata": {},
   "outputs": [],
   "source": [
    "import requests\n",
    "import pandas as pd\n",
    "\n",
    "resp = requests.get(\"https://dadosabertos.camara.leg.br/api/v2/deputados\")\n",
    "data = resp.json()"
   ]
  },
  {
   "cell_type": "code",
   "execution_count": 7,
   "id": "9d83a8a9",
   "metadata": {},
   "outputs": [
    {
     "data": {
      "text/html": [
       "<div>\n",
       "<style scoped>\n",
       "    .dataframe tbody tr th:only-of-type {\n",
       "        vertical-align: middle;\n",
       "    }\n",
       "\n",
       "    .dataframe tbody tr th {\n",
       "        vertical-align: top;\n",
       "    }\n",
       "\n",
       "    .dataframe thead th {\n",
       "        text-align: right;\n",
       "    }\n",
       "</style>\n",
       "<table border=\"1\" class=\"dataframe\">\n",
       "  <thead>\n",
       "    <tr style=\"text-align: right;\">\n",
       "      <th></th>\n",
       "      <th>id</th>\n",
       "      <th>uri</th>\n",
       "      <th>nome</th>\n",
       "      <th>siglaPartido</th>\n",
       "      <th>uriPartido</th>\n",
       "      <th>siglaUf</th>\n",
       "      <th>idLegislatura</th>\n",
       "      <th>urlFoto</th>\n",
       "      <th>email</th>\n",
       "    </tr>\n",
       "  </thead>\n",
       "  <tbody>\n",
       "    <tr>\n",
       "      <th>0</th>\n",
       "      <td>204379</td>\n",
       "      <td>https://dadosabertos.camara.leg.br/api/v2/depu...</td>\n",
       "      <td>Acácio Favacho</td>\n",
       "      <td>MDB</td>\n",
       "      <td>https://dadosabertos.camara.leg.br/api/v2/part...</td>\n",
       "      <td>AP</td>\n",
       "      <td>57</td>\n",
       "      <td>https://www.camara.leg.br/internet/deputado/ba...</td>\n",
       "      <td>dep.acaciofavacho@camara.leg.br</td>\n",
       "    </tr>\n",
       "    <tr>\n",
       "      <th>1</th>\n",
       "      <td>220714</td>\n",
       "      <td>https://dadosabertos.camara.leg.br/api/v2/depu...</td>\n",
       "      <td>Adail Filho</td>\n",
       "      <td>REPUBLICANOS</td>\n",
       "      <td>https://dadosabertos.camara.leg.br/api/v2/part...</td>\n",
       "      <td>AM</td>\n",
       "      <td>57</td>\n",
       "      <td>https://www.camara.leg.br/internet/deputado/ba...</td>\n",
       "      <td>dep.adailfilho@camara.leg.br</td>\n",
       "    </tr>\n",
       "  </tbody>\n",
       "</table>\n",
       "</div>"
      ],
      "text/plain": [
       "       id                                                uri            nome  \\\n",
       "0  204379  https://dadosabertos.camara.leg.br/api/v2/depu...  Acácio Favacho   \n",
       "1  220714  https://dadosabertos.camara.leg.br/api/v2/depu...     Adail Filho   \n",
       "\n",
       "   siglaPartido                                         uriPartido siglaUf  \\\n",
       "0           MDB  https://dadosabertos.camara.leg.br/api/v2/part...      AP   \n",
       "1  REPUBLICANOS  https://dadosabertos.camara.leg.br/api/v2/part...      AM   \n",
       "\n",
       "   idLegislatura                                            urlFoto  \\\n",
       "0             57  https://www.camara.leg.br/internet/deputado/ba...   \n",
       "1             57  https://www.camara.leg.br/internet/deputado/ba...   \n",
       "\n",
       "                             email  \n",
       "0  dep.acaciofavacho@camara.leg.br  \n",
       "1     dep.adailfilho@camara.leg.br  "
      ]
     },
     "execution_count": 7,
     "metadata": {},
     "output_type": "execute_result"
    }
   ],
   "source": [
    "df_data = pd.DataFrame(data[\"dados\"])\n",
    "df_data.head(2)"
   ]
  },
  {
   "cell_type": "code",
   "execution_count": 19,
   "id": "0dd65a33",
   "metadata": {},
   "outputs": [],
   "source": [
    "#deputados.groupby('siglaPartido').size().sort_values(ascending=False).reset_index()\n",
    "\n",
    "df_data_filtered = df_data[[\"nome\",\"email\",\"siglaUf\",\"siglaPartido\"]]\n",
    "\n",
    "df_data_filtered\n",
    "\n",
    "df_data_filtered.to_json(\"df_data_filtered.json\", orient=\"records\", force_ascii=False)"
   ]
  },
  {
   "cell_type": "code",
   "execution_count": 20,
   "id": "4be9c70f",
   "metadata": {},
   "outputs": [],
   "source": [
    "from google.cloud import storage\n",
    "import os\n",
    "os.environ[\"GOOGLE_APPLICATION_CREDENTIALS\"] = r\"C:\\Users\\Dell\\ProjetosPython\\terraform.json\"\n"
   ]
  },
  {
   "cell_type": "code",
   "execution_count": 25,
   "id": "47a0d34a",
   "metadata": {},
   "outputs": [],
   "source": [
    "# Nome do bucket e arquivo\n",
    "bucket_name = \"gcs_python_test\"\n",
    "source_file_name = \"df_data_filtered.json\"  # Exemplo de arquivo local\n",
    "destination_blob_name = \"df_data_filtered.json\"  # Nome no GCS"
   ]
  },
  {
   "cell_type": "code",
   "execution_count": 26,
   "id": "8d83fb01",
   "metadata": {},
   "outputs": [],
   "source": [
    "def upload_to_bucket(bucket_name, source_file_name, destination_blob_name):\n",
    "    # Cria cliente de storage\n",
    "    client = storage.Client()\n",
    "    bucket = client.bucket(bucket_name)\n",
    "    blob = bucket.blob(destination_blob_name)\n",
    "\n",
    "    # Envia o arquivo\n",
    "    blob.upload_from_filename(source_file_name)\n",
    "\n",
    "    print(f\"Arquivo {source_file_name} enviado para gs://{bucket_name}/{destination_blob_name}\")"
   ]
  },
  {
   "cell_type": "code",
   "execution_count": 27,
   "id": "e904f149",
   "metadata": {},
   "outputs": [
    {
     "name": "stdout",
     "output_type": "stream",
     "text": [
      "Arquivo df_data_filtered.json enviado para gs://gcs_python_test/df_data_filtered.json\n"
     ]
    }
   ],
   "source": [
    "upload_to_bucket(bucket_name, source_file_name, destination_blob_name)"
   ]
  }
 ],
 "metadata": {
  "kernelspec": {
   "display_name": "agent",
   "language": "python",
   "name": "python3"
  },
  "language_info": {
   "codemirror_mode": {
    "name": "ipython",
    "version": 3
   },
   "file_extension": ".py",
   "mimetype": "text/x-python",
   "name": "python",
   "nbconvert_exporter": "python",
   "pygments_lexer": "ipython3",
   "version": "3.11.8"
  }
 },
 "nbformat": 4,
 "nbformat_minor": 5
}
